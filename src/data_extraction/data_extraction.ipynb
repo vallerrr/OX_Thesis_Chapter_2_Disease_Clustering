{
 "cells": [
  {
   "cell_type": "code",
   "execution_count": 1,
   "id": "5e045306-015f-4668-989e-19099d968964",
   "metadata": {
    "tags": []
   },
   "outputs": [],
   "source": [
    "# import data \n",
    "import pyspark\n",
    "import dxpy\n",
    "import dxdata\n",
    "import pandas as pd \n",
    "import os "
   ]
  },
  {
   "cell_type": "code",
   "execution_count": 2,
   "id": "86a0e4bc-f296-4604-86e8-6b8a909e1ada",
   "metadata": {
    "tags": []
   },
   "outputs": [],
   "source": [
    "engine = dxdata.connect(dialect=\"hive+pyspark\")\n"
   ]
  },
  {
   "cell_type": "code",
   "execution_count": 3,
   "id": "79a8262f-da4f-4249-b11d-59390fd24982",
   "metadata": {
    "tags": []
   },
   "outputs": [],
   "source": [
    "project = os.popen(\"dx env | grep project- | awk -F '\\t' '{print $2}'\").read().rstrip()\n",
    "# record id: \n",
    "record = os.popen(\"dx describe *dataset | grep  record- | awk -F ' ' '{print $2}'\").read().rstrip().split('\\n')[0]\n",
    "dataset = dxdata.load_dataset(id=f'{project}:{record}')\n"
   ]
  },
  {
   "cell_type": "code",
   "execution_count": 6,
   "id": "1c96856c-2974-42fe-8ef6-70124d03ad68",
   "metadata": {
    "tags": []
   },
   "outputs": [],
   "source": [
    "pheno = dataset['participant'] # this is the entity key "
   ]
  },
  {
   "cell_type": "code",
   "execution_count": 15,
   "id": "6ea649fe-4978-46eb-812e-7bcd0efc499d",
   "metadata": {
    "tags": []
   },
   "outputs": [],
   "source": [
    "df_all_fields = pd.DataFrame(columns = ['entity','field_name','filed_title'])\n",
    "for entity in dataset.entities:\n",
    "    entity_name  = entity.name\n",
    "    \n",
    "    for field in entity.fields:\n",
    "        field_name = field.name\n",
    "        filed_title = field.title\n",
    "        df_all_fields.loc[len(df_all_fields),] = [entity_name,field_name,filed_title]\n",
    "\n",
    "df_all_fields.to_csv('all_fields.csv',index=False)\n"
   ]
  },
  {
   "cell_type": "code",
   "execution_count": null,
   "id": "2fdaee47-69c4-4326-bd33-faae83744e98",
   "metadata": {},
   "outputs": [],
   "source": [
    "%%bash\n",
    "dx upload all_fields.csv --path /transferred_data/all_fileds.csv\n"
   ]
  }
 ],
 "metadata": {
  "kernelspec": {
   "display_name": "Python 3 (ipykernel)",
   "language": "python",
   "name": "python3"
  },
  "language_info": {
   "codemirror_mode": {
    "name": "ipython",
    "version": 3
   },
   "file_extension": ".py",
   "mimetype": "text/x-python",
   "name": "python",
   "nbconvert_exporter": "python",
   "pygments_lexer": "ipython3",
   "version": "3.9.16"
  }
 },
 "nbformat": 4,
 "nbformat_minor": 5
}
