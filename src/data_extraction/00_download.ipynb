{
 "cells": [
  {
   "cell_type": "code",
   "execution_count": 1,
   "id": "07264f09-ef47-40bf-b161-68b1e1697ec6",
   "metadata": {
    "tags": []
   },
   "outputs": [],
   "source": [
    "import dxdata\n",
    "import pandas as pd\n",
    "import os\n",
    "\n",
    "# Initialize dxdata engine\n",
    "engine = dxdata.connect(dialect=\"hive+pyspark\")\n",
    "project = os.popen(\"dx env | grep project- | awk -F '\\t' '{print $2}'\").read().rstrip()\n",
    "record = os.popen(\"dx describe *dataset | grep  record- | awk -F ' ' '{print $2}'\").read().rstrip().split('\\n')[0]\n",
    "DATASET_ID = project + \":\" + record\n",
    "dataset = dxdata.load_dataset(id=DATASET_ID)\n",
    "data = dataset['participant']\n",
    "from pyspark.sql import SparkSession\n",
    "\n",
    "spark = SparkSession.builder.appName(\"YourAppName\")\\\n",
    "    .config(\"spark.kryoserializer.buffer.mb\", \"24\")\\\n",
    "    .config(\"spark.kryoserializer.buffer.max.mb\", \"2000\")\\\n",
    "    .getOrCreate()\n"
   ]
  },
  {
   "cell_type": "markdown",
   "id": "d049c70e-8c6c-45da-9278-4e5237976a40",
   "metadata": {
    "jp-MarkdownHeadingCollapsed": true,
    "tags": []
   },
   "source": [
    "\n",
    "# Find by field name\n",
    "field_eid = pheno.find_field(name=\"eid\")\n",
    "\n",
    "# Find by exact title\n",
    "field_sex = pheno.find_field(title=\"Sex\")\n",
    "field_age = pheno.find_field(title=\"Age at recruitment\")\n",
    "field_height = pheno.find_field(title=\"Standing height | Instance 0\")"
   ]
  },
  {
   "cell_type": "code",
   "execution_count": 4,
   "id": "572963c6-5666-426c-b051-231408b37aff",
   "metadata": {
    "tags": []
   },
   "outputs": [
    {
     "data": {
      "text/plain": [
       "[<Field \"eid\">, <Field \"p50_i0\">, <Field \"p31\">, <Field \"p21022\">]"
      ]
     },
     "execution_count": 4,
     "metadata": {},
     "output_type": "execute_result"
    }
   ],
   "source": [
    "field_list = [field_eid, field_height, field_sex, field_age]\n",
    "field_list"
   ]
  },
  {
   "cell_type": "markdown",
   "id": "5a72d1a6-d421-4cbe-9b03-323ccade47b1",
   "metadata": {
    "tags": []
   },
   "source": [
    "## prepare recorders "
   ]
  },
  {
   "cell_type": "code",
   "execution_count": 16,
   "id": "ca09f190-1802-4a6a-b596-01f51922963c",
   "metadata": {
    "tags": []
   },
   "outputs": [],
   "source": [
    "df_all_fields = pd.DataFrame(columns = ['entity','field_name','filed_title'])\n",
    "for entity in dataset.entities:\n",
    "    entity_name  = entity.name\n",
    "    \n",
    "    for field in entity.fields:\n",
    "        field_name = field.name\n",
    "        filed_title = field.title\n",
    "        df_all_fields.loc[len(df_all_fields),] = [entity_name,field_name,filed_title]\n",
    "df_all_fields['downloaded']=[False]*len(df_all_fields)\n",
    "df_all_fields.to_csv('recorder_all_fields.csv',index=False)\n"
   ]
  },
  {
   "cell_type": "code",
   "execution_count": 24,
   "id": "de0b65db-3e49-45db-8d51-bb3badb867ce",
   "metadata": {
    "tags": []
   },
   "outputs": [],
   "source": [
    "for entity in df_all_fields['entity'].unique():\n",
    "    df_target_entity = df_all_fields.loc[df_all_fields['entity']==entity,]\n",
    "    df_target_entity.to_csv(f'recorder_{entity}.csv')"
   ]
  },
  {
   "cell_type": "markdown",
   "id": "eb76eb51-469d-4cf3-a893-48b2820e8025",
   "metadata": {
    "tags": []
   },
   "source": [
    "# data downloading codes"
   ]
  },
  {
   "cell_type": "code",
   "execution_count": 2,
   "id": "9c3f5166-4378-423a-801f-8766a57a5615",
   "metadata": {
    "tags": []
   },
   "outputs": [],
   "source": [
    "import warnings \n",
    "warnings.filterwarnings('ignore')"
   ]
  },
  {
   "cell_type": "code",
   "execution_count": 3,
   "id": "c3168f86-3b89-4cf2-9b53-5dcf23bb2fc5",
   "metadata": {
    "tags": []
   },
   "outputs": [],
   "source": [
    "fail_list = [52,414]"
   ]
  },
  {
   "cell_type": "code",
   "execution_count": 4,
   "id": "1c7bc0f2-091e-40c0-bb7d-44f78f998b80",
   "metadata": {
    "tags": []
   },
   "outputs": [],
   "source": [
    "ind = 815\n",
    "entity='participant'\n",
    "\n",
    "interval = 500 # how many files to be downloaded in one go\n",
    "bulk_num = 30 # how many fields in one file"
   ]
  },
  {
   "cell_type": "code",
   "execution_count": null,
   "id": "cd6021bc-2755-4632-8fc6-cf8171e9fda0",
   "metadata": {
    "tags": []
   },
   "outputs": [
    {
     "name": "stdout",
     "output_type": "stream",
     "text": [
      "now download bulk 815, from 24451 to 24480\n",
      "now download bulk 816, from 24481 to 24510\n",
      "now download bulk 817, from 24511 to 24540\n",
      "now download bulk 818, from 24541 to 24570\n",
      "now download bulk 819, from 24571 to 24600\n",
      "now download bulk 820, from 24601 to 24630\n",
      "now download bulk 821, from 24631 to 24660\n",
      "now download bulk 822, from 24661 to 24690\n",
      "now download bulk 823, from 24691 to 24720\n",
      "now download bulk 824, from 24721 to 24750\n",
      "now download bulk 825, from 24751 to 24780\n",
      "now download bulk 826, from 24781 to 24810\n",
      "now download bulk 827, from 24811 to 24840\n",
      "now download bulk 828, from 24841 to 24870\n",
      "now download bulk 829, from 24871 to 24900\n",
      "now download bulk 830, from 24901 to 24930\n",
      "now download bulk 831, from 24931 to 24960\n",
      "now download bulk 832, from 24961 to 24990\n",
      "now download bulk 833, from 24991 to 25020\n",
      "now download bulk 834, from 25021 to 25050\n",
      "now download bulk 835, from 25051 to 25080\n",
      "now download bulk 836, from 25081 to 25110\n",
      "now download bulk 837, from 25111 to 25140\n",
      "now download bulk 838, from 25141 to 25170\n",
      "now download bulk 839, from 25171 to 25200\n",
      "now download bulk 840, from 25201 to 25230\n",
      "now download bulk 841, from 25231 to 25260\n",
      "now download bulk 842, from 25261 to 25290\n",
      "now download bulk 843, from 25291 to 25320\n",
      "now download bulk 844, from 25321 to 25350\n",
      "now download bulk 845, from 25351 to 25380\n",
      "now download bulk 846, from 25381 to 25410\n",
      "now download bulk 847, from 25411 to 25440\n",
      "now download bulk 848, from 25441 to 25470\n",
      "now download bulk 849, from 25471 to 25500\n",
      "now download bulk 850, from 25501 to 25530\n",
      "now download bulk 851, from 25531 to 25560\n",
      "now download bulk 852, from 25561 to 25590\n",
      "now download bulk 853, from 25591 to 25620\n",
      "now download bulk 854, from 25621 to 25650\n",
      "now download bulk 855, from 25651 to 25680\n",
      "now download bulk 856, from 25681 to 25710\n",
      "now download bulk 857, from 25711 to 25740\n",
      "now download bulk 858, from 25741 to 25770\n",
      "now download bulk 859, from 25771 to 25800\n",
      "now download bulk 860, from 25801 to 25830\n",
      "now download bulk 861, from 25831 to 25860\n",
      "now download bulk 862, from 25861 to 25890\n",
      "now download bulk 863, from 25891 to 25920\n",
      "now download bulk 864, from 25921 to 25950\n",
      "now download bulk 865, from 25951 to 25980\n",
      "now download bulk 866, from 25981 to 26010\n",
      "now download bulk 867, from 26011 to 26040\n",
      "now download bulk 868, from 26041 to 26070\n",
      "now download bulk 869, from 26071 to 26100\n",
      "now download bulk 870, from 26101 to 26130\n",
      "now download bulk 871, from 26131 to 26160\n",
      "now download bulk 872, from 26161 to 26190\n",
      "now download bulk 873, from 26191 to 26220\n",
      "now download bulk 874, from 26221 to 26250\n",
      "now download bulk 875, from 26251 to 26280\n",
      "now download bulk 876, from 26281 to 26310\n",
      "now download bulk 877, from 26311 to 26340\n",
      "now download bulk 878, from 26341 to 26370\n",
      "now download bulk 879, from 26371 to 26400\n",
      "now download bulk 880, from 26401 to 26430\n",
      "now download bulk 881, from 26431 to 26460\n",
      "now download bulk 882, from 26461 to 26490\n",
      "now download bulk 883, from 26491 to 26520\n",
      "now download bulk 884, from 26521 to 26550\n",
      "now download bulk 885, from 26551 to 26580\n",
      "now download bulk 886, from 26581 to 26610\n",
      "now download bulk 887, from 26611 to 26640\n",
      "now download bulk 888, from 26641 to 26670\n",
      "now download bulk 889, from 26671 to 26700\n",
      "now download bulk 890, from 26701 to 26730\n",
      "now download bulk 891, from 26731 to 26760\n",
      "now download bulk 892, from 26761 to 26790\n",
      "now download bulk 893, from 26791 to 26820\n",
      "now download bulk 894, from 26821 to 26850\n",
      "now download bulk 895, from 26851 to 26880\n",
      "now download bulk 896, from 26881 to 26910\n",
      "now download bulk 897, from 26911 to 26940\n",
      "now download bulk 898, from 26941 to 26970\n",
      "now download bulk 899, from 26971 to 27000\n",
      "now download bulk 900, from 27001 to 27030\n",
      "now download bulk 901, from 27031 to 27060\n",
      "now download bulk 902, from 27061 to 27090\n",
      "now download bulk 903, from 27091 to 27120\n",
      "now download bulk 904, from 27121 to 27150\n",
      "now download bulk 905, from 27151 to 27180\n",
      "now download bulk 906, from 27181 to 27210\n",
      "now download bulk 907, from 27211 to 27240\n",
      "now download bulk 908, from 27241 to 27270\n",
      "now download bulk 909, from 27271 to 27300\n",
      "now download bulk 910, from 27301 to 27330\n",
      "now download bulk 911, from 27331 to 27360\n",
      "now download bulk 912, from 27361 to 27390\n",
      "now download bulk 913, from 27391 to 27420\n",
      "now download bulk 914, from 27421 to 27450\n",
      "now download bulk 915, from 27451 to 27480\n",
      "now download bulk 916, from 27481 to 27510\n",
      "now download bulk 917, from 27511 to 27540\n",
      "now download bulk 918, from 27541 to 27570\n",
      "now download bulk 919, from 27571 to 27600\n",
      "now download bulk 920, from 27601 to 27630\n",
      "now download bulk 921, from 27631 to 27660\n",
      "now download bulk 922, from 27661 to 27690\n",
      "now download bulk 923, from 27691 to 27720\n",
      "now download bulk 924, from 27721 to 27750\n",
      "now download bulk 925, from 27751 to 27780\n",
      "now download bulk 926, from 27781 to 27810\n",
      "now download bulk 927, from 27811 to 27840\n",
      "now download bulk 928, from 27841 to 27870\n",
      "now download bulk 929, from 27871 to 27900\n",
      "now download bulk 930, from 27901 to 27930\n",
      "now download bulk 931, from 27931 to 27960\n",
      "now download bulk 932, from 27961 to 27990\n",
      "now download bulk 933, from 27991 to 28020\n",
      "now download bulk 934, from 28021 to 28050\n",
      "now download bulk 935, from 28051 to 28080\n",
      "now download bulk 936, from 28081 to 28110\n",
      "now download bulk 937, from 28111 to 28140\n",
      "now download bulk 938, from 28141 to 28170\n",
      "now download bulk 939, from 28171 to 28200\n",
      "now download bulk 940, from 28201 to 28230\n",
      "now download bulk 941, from 28231 to 28260\n",
      "now download bulk 942, from 28261 to 28290\n",
      "now download bulk 943, from 28291 to 28320\n",
      "now download bulk 944, from 28321 to 28350\n",
      "now download bulk 945, from 28351 to 28380\n",
      "now download bulk 946, from 28381 to 28410\n",
      "now download bulk 947, from 28411 to 28440\n",
      "now download bulk 948, from 28441 to 28470\n",
      "now download bulk 949, from 28471 to 28500\n",
      "now download bulk 950, from 28501 to 28530\n",
      "now download bulk 951, from 28531 to 28560\n",
      "now download bulk 952, from 28561 to 28590\n",
      "now download bulk 953, from 28591 to 28620\n",
      "now download bulk 954, from 28621 to 28650\n",
      "now download bulk 955, from 28651 to 28680\n",
      "now download bulk 956, from 28681 to 28710\n",
      "now download bulk 957, from 28711 to 28740\n",
      "now download bulk 958, from 28741 to 28770\n",
      "now download bulk 959, from 28771 to 28800\n",
      "now download bulk 960, from 28801 to 28830\n",
      "now download bulk 961, from 28831 to 28860\n",
      "now download bulk 962, from 28861 to 28890\n",
      "now download bulk 963, from 28891 to 28920\n",
      "now download bulk 964, from 28921 to 28950\n",
      "now download bulk 965, from 28951 to 28980\n",
      "now download bulk 966, from 28981 to 29010\n",
      "now download bulk 967, from 29011 to 29040\n",
      "now download bulk 968, from 29041 to 29070\n",
      "now download bulk 969, from 29071 to 29100\n",
      "now download bulk 970, from 29101 to 29130\n",
      "now download bulk 971, from 29131 to 29160\n",
      "now download bulk 972, from 29161 to 29190\n",
      "now download bulk 973, from 29191 to 29220\n",
      "now download bulk 974, from 29221 to 29250\n",
      "now download bulk 975, from 29251 to 29280\n"
     ]
    }
   ],
   "source": [
    "from datetime import datetime\n",
    "start_time = datetime.now()\n",
    "df_target_entity = pd.read_csv(f'recorder_{entity}.csv')\n",
    "end = ind+interval\n",
    "\n",
    "while ind < end:\n",
    "    try:\n",
    "        print(f\"now download bulk {ind}, from {ind*bulk_num+1} to {ind*bulk_num+bulk_num}\")\n",
    "        field_names = df_target_entity.loc[ind*bulk_num+1:ind*bulk_num+bulk_num,'field_name']\n",
    "        index = field_names.index\n",
    "        field_names = ['eid']+list(field_names)\n",
    "        field_lst = [data.find_field(x) for x in field_names]\n",
    "\n",
    "        df_download = data.retrieve_fields(engine=engine, fields=field_lst, coding_values=\"replace\")\n",
    "        df_download = df_download.toPandas()\n",
    "\n",
    "        df_download.to_csv(f'data/{entity}/{ind}.csv',index=False)\n",
    "\n",
    "        df_target_entity.loc[index, 'downloaded']=[True]*len(index)\n",
    "        df_target_entity.loc[index, 'ind']=[ind]*len(index)\n",
    "        df_target_entity.to_csv(f'recorder_{entity}.csv')\n",
    "    except Exception as e :\n",
    "        print(f\"error in bulk {ind}, {e}\")\n",
    "        with open('fail_ind_lst.txt','a') as f:\n",
    "            f.write(f',{ind}')\n",
    "        f.close()\n",
    "        fail_list+=[ind]\n",
    "    ind+=1\n",
    "print(f'starttime {start_time}, endtime {datetime.now()}')\n",
    "print(f'average ({datetime.now()-start_time})/interval per file')"
   ]
  },
  {
   "cell_type": "markdown",
   "id": "3d0ff3b9-7a1d-4f6c-a81b-99b1244210a4",
   "metadata": {
    "tags": []
   },
   "source": [
    "## segregation of file 52 "
   ]
  },
  {
   "cell_type": "code",
   "execution_count": 11,
   "id": "4d630458-7a13-4884-a083-97c62a98a75d",
   "metadata": {
    "tags": []
   },
   "outputs": [
    {
     "name": "stdout",
     "output_type": "stream",
     "text": [
      " starttime 2024-02-27 14:52:42.425171, endtime 2024-02-27 14:53:30.363965\n"
     ]
    }
   ],
   "source": [
    "from datetime import datetime\n",
    "start_time = datetime.now()\n",
    "df_target_entity = pd.read_csv(f'recorder/recorder_{entity}.csv')\n",
    "\n",
    "ind = 5204\n",
    "try:\n",
    "    #field_names = df_target_entity.loc[1561:1570,'field_name'] #5200 passed \n",
    "    #field_names = df_target_entity.loc[1571:1571,'field_name']#5202 passed\n",
    "    #field_names = df_target_entity.loc[1572:1572,'field_name']#5203  \n",
    "    field_names = df_target_entity.loc[1573:1575,'field_name'] #5204 passed \n",
    "    # field_names = df_target_entity.loc[1575:1590,'field_name'] #5205 passed \n",
    "    index = field_names.index\n",
    "    field_lst = [data.find_field(x) for x in list(field_names)]\n",
    "\n",
    "    df_download = data.retrieve_fields(engine=engine, fields=field_lst, coding_values=\"replace\")\n",
    "    df_download = df_download.toPandas()\n",
    "\n",
    "    df_download.to_csv(f'data/{entity}/{ind}.csv',index=False)\n",
    "\n",
    "    #df_target_entity.loc[index, 'downloaded']=[True]*len(index)\n",
    "    #df_target_entity.loc[index, 'ind']=[ind]*len(index)\n",
    "    #df_target_entity.to_csv(f'recorder/recorder_{entity}.csv')\n",
    "    # fail_list.remove(ind)\n",
    "except Exception as e:\n",
    "    print(e)\n",
    "    print(f\"error in bulk {ind}\")\n",
    "\n",
    "\n",
    "print(f' starttime {start_time}, endtime {datetime.now()}')"
   ]
  },
  {
   "cell_type": "markdown",
   "id": "f5f1c7ac-f299-4351-aa5a-ba09c6c35460",
   "metadata": {},
   "source": [
    "ind = 0\n",
    "interval = 5\n",
    "\n",
    "filenames = [f'data/{entity}/{x}.csv' for x in range(ind,ind+interval)]\n",
    "df_compact = pd.concat(map(pd.read_csv, filenames))\n",
    "df_compact.to_pickle(f'data/{entity}/{ind}-{interval-1}.pkl')\n",
    "for file in filenames:\n",
    "    os.remove(file)\n"
   ]
  },
  {
   "cell_type": "markdown",
   "id": "dd333f76-ab48-47dc-bb24-8fdfe93845c1",
   "metadata": {},
   "source": [
    "## only download diseases "
   ]
  },
  {
   "cell_type": "code",
   "execution_count": null,
   "id": "7a133bdd-b366-4b4b-84d6-62b4d541953d",
   "metadata": {
    "tags": []
   },
   "outputs": [],
   "source": [
    "# all_icd \n",
    "field_names = ['Diagnoses - ICD10','Date of first in-patient diagnosis - ICD10','Diagnoses - main ICD10','Date of first in-patient diagnosis - main ICD10','Diagnoses - main ICD9']\n",
    "field_ids = ['eid','p41270']+[f'p41280_a{x}' for x in range(0,259)]\n",
    "field_lst = [data.find_field(x) for x in list(field_ids)]\n",
    "df_download = data.retrieve_fields(engine=engine, fields=field_lst, coding_values=\"replace\")\n",
    "df_download = df_download.toPandas()\n",
    "df_download.to_csv(f'diseases_all_icd.csv',index=False)"
   ]
  },
  {
   "cell_type": "code",
   "execution_count": null,
   "id": "94bcabc0-4fac-4bd5-9399-297da4e3befa",
   "metadata": {},
   "outputs": [],
   "source": [
    "# main_icd \n",
    "field_names = ['Diagnoses - ICD10','Date of first in-patient diagnosis - ICD10','Diagnoses - main ICD10','Date of first in-patient diagnosis - main ICD10','Diagnoses - main ICD9']\n",
    "field_ids = ['eid','p41202']+[f'p41262_a{x}' for x in range(0,80)]\n",
    "field_lst = [data.find_field(x) for x in list(field_ids)]\n",
    "df_download = data.retrieve_fields(engine=engine, fields=field_lst, coding_values=\"replace\")\n",
    "df_download = df_download.toPandas()\n",
    "df_download.to_csv(f'diseases_main_icd.csv',index=False)"
   ]
  },
  {
   "cell_type": "code",
   "execution_count": null,
   "id": "0134af87-f4ce-4eab-b6d3-462338d78327",
   "metadata": {},
   "outputs": [],
   "source": [
    "\n",
    "# second_icd \n",
    "field_names = ['Diagnoses - ICD10','Date of first in-patient diagnosis - ICD10','Diagnoses - main ICD10','Date of first in-patient diagnosis - main ICD10','Diagnoses - main ICD9']\n",
    "field_ids = ['eid','p41203']\n",
    "field_lst = [data.find_field(x) for x in list(field_ids)]\n",
    "df_download = data.retrieve_fields(engine=engine, fields=field_lst, coding_values=\"replace\")\n",
    "df_download = df_download.toPandas()\n",
    "df_download.to_csv(f'diseases_second_icd.csv',index=False)\n"
   ]
  }
 ],
 "metadata": {
  "kernelspec": {
   "display_name": "Python 3 (ipykernel)",
   "language": "python",
   "name": "python3"
  },
  "language_info": {
   "codemirror_mode": {
    "name": "ipython",
    "version": 3
   },
   "file_extension": ".py",
   "mimetype": "text/x-python",
   "name": "python",
   "nbconvert_exporter": "python",
   "pygments_lexer": "ipython3",
   "version": "3.9.16"
  }
 },
 "nbformat": 4,
 "nbformat_minor": 5
}
